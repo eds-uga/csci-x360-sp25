{
 "cells": [
  {
   "cell_type": "markdown",
   "metadata": {
    "editable": true,
    "slideshow": {
     "slide_type": "slide"
    },
    "tags": []
   },
   "source": [
    "# Lecture 2: Python Crash Course\n",
    "CSCI 4360/6360: Data Science II"
   ]
  },
  {
   "cell_type": "markdown",
   "metadata": {
    "editable": true,
    "slideshow": {
     "slide_type": "slide"
    },
    "tags": []
   },
   "source": [
    "News headline the literal first day of this class in Fall 2023\n",
    "\n",
    "![Python in Excel](L2/python-excel.png)"
   ]
  },
  {
   "cell_type": "markdown",
   "metadata": {
    "editable": true,
    "slideshow": {
     "slide_type": "slide"
    },
    "tags": []
   },
   "source": [
    "Read more: https://arstechnica.com/information-technology/2023/08/you-can-now-wield-python-analytics-inside-excel-but-microsoft-says-its-safe/"
   ]
  },
  {
   "cell_type": "markdown",
   "metadata": {
    "editable": true,
    "slideshow": {
     "slide_type": "slide"
    },
    "tags": []
   },
   "source": [
    "## Part 1: Python Background"
   ]
  },
  {
   "cell_type": "markdown",
   "metadata": {
    "editable": true,
    "slideshow": {
     "slide_type": ""
    },
    "tags": []
   },
   "source": [
    "Python as a language was implemented from the start by Guido van Rossum. What was originally something of a [snarkily-named hobby project to pass the holidays](https://www.python.org/doc/essays/foreword/) turned into a huge open source phenomenon used by millions."
   ]
  },
  {
   "cell_type": "markdown",
   "metadata": {
    "editable": true,
    "slideshow": {
     "slide_type": "fragment"
    },
    "tags": []
   },
   "source": [
    "![guido](L2/guido.png)"
   ]
  },
  {
   "cell_type": "markdown",
   "metadata": {
    "editable": true,
    "slideshow": {
     "slide_type": "slide"
    },
    "tags": []
   },
   "source": [
    "### Python's history\n",
    "\n",
    "The original project began in 1989.\n",
    "\n",
    " - Release of Python 2.0 in 2000\n",
    "\n",
    " - Release of Python 3.0 in 2008\n",
    "\n",
    " - Python 2.0 was EOL (end-of-life) in 2020, so you should be on Python 3 now. The latest version of Python is 3.13 (though it's still a bit bleeding-edge)."
   ]
  },
  {
   "cell_type": "markdown",
   "metadata": {
    "editable": true,
    "slideshow": {
     "slide_type": "slide"
    },
    "tags": []
   },
   "source": [
    "![](L2/python-versions.png)"
   ]
  },
  {
   "cell_type": "markdown",
   "metadata": {
    "editable": true,
    "slideshow": {
     "slide_type": "slide"
    },
    "tags": []
   },
   "source": [
    "You're welcome to use whatever version you want, just be aware: the AutoLab autograders will be using **3.10 - 3.11** (in general, anything **3.10** and above should be fine, though absolutely no lower than 3.9)."
   ]
  },
  {
   "cell_type": "markdown",
   "metadata": {
    "editable": true,
    "slideshow": {
     "slide_type": ""
    },
    "tags": []
   },
   "source": [
    "https://devguide.python.org/versions/"
   ]
  },
  {
   "cell_type": "markdown",
   "metadata": {
    "editable": true,
    "slideshow": {
     "slide_type": "slide"
    },
    "tags": []
   },
   "source": [
    "### Python, the Language\n",
    "\n",
    "Python is an **intepreted** language.\n",
    "\n",
    " - Contrast with **compiled** languages\n",
    " - Performance, ease-of-use\n",
    " - Modern intertwining and blurring of compiled vs interpreted languages"
   ]
  },
  {
   "cell_type": "markdown",
   "metadata": {
    "editable": true,
    "slideshow": {
     "slide_type": "fragment"
    },
    "tags": []
   },
   "source": [
    "Python is a very **general** language.\n",
    "\n",
    " - Not designed as a specialized language for performing a specific task. Instead, it relies on third-party developers to provide these extras."
   ]
  },
  {
   "cell_type": "markdown",
   "metadata": {
    "editable": true,
    "slideshow": {
     "slide_type": "slide"
    },
    "tags": []
   },
   "source": [
    "![xkcd](L2/python.png)"
   ]
  },
  {
   "cell_type": "markdown",
   "metadata": {
    "editable": true,
    "slideshow": {
     "slide_type": "slide"
    },
    "tags": []
   },
   "source": [
    "Instead, as [Jake VanderPlas](http://jakevdp.github.io/) put it:\n",
    "\n",
    "> \"Python syntax is the glue that holds your data science code together. As many scientists and statisticians have found, Python excels in that role because it is powerful, intuitive, quick to write, fun to use, and above all extremely useful in day-to-day data science tasks.\""
   ]
  },
  {
   "cell_type": "markdown",
   "metadata": {
    "editable": true,
    "slideshow": {
     "slide_type": "slide"
    },
    "tags": []
   },
   "source": [
    "## Part 2: Language Basics"
   ]
  },
  {
   "cell_type": "markdown",
   "metadata": {
    "editable": true,
    "slideshow": {
     "slide_type": ""
    },
    "tags": []
   },
   "source": [
    "The most basic thing possible: Hello, World!"
   ]
  },
  {
   "cell_type": "code",
   "execution_count": 1,
   "metadata": {
    "editable": true,
    "slideshow": {
     "slide_type": "fragment"
    },
    "tags": []
   },
   "outputs": [
    {
     "name": "stdout",
     "output_type": "stream",
     "text": [
      "Hello, world!\n"
     ]
    }
   ],
   "source": [
    "print(\"Hello, world!\")"
   ]
  },
  {
   "cell_type": "markdown",
   "metadata": {
    "editable": true,
    "slideshow": {
     "slide_type": ""
    },
    "tags": []
   },
   "source": [
    "Yep, that's all that's needed!"
   ]
  },
  {
   "cell_type": "markdown",
   "metadata": {
    "editable": true,
    "slideshow": {
     "slide_type": ""
    },
    "tags": []
   },
   "source": [
    "(Take note: the biggest different between Python 2 and 3 is the `print` function: it technically wasn't a function in Python 2 so much as a *language construct*, and so you didn't need parentheses around the string you wanted printed; in Python 3, it's a full-fledged *function*, and therefore requires parentheses)"
   ]
  },
  {
   "cell_type": "markdown",
   "metadata": {
    "editable": true,
    "slideshow": {
     "slide_type": "slide"
    },
    "tags": []
   },
   "source": [
    "### Variables and Types"
   ]
  },
  {
   "cell_type": "markdown",
   "metadata": {
    "editable": true,
    "slideshow": {
     "slide_type": ""
    },
    "tags": []
   },
   "source": [
    "Python is dynamically-typed, meaning you don't have to declare types when you assign variables. Python is also *duck-typed*, a colloquialism that means it *infers* the best-suited variable type at runtime (\"if it walks like a duck and quacks like a duck...\")"
   ]
  },
  {
   "cell_type": "code",
   "execution_count": 2,
   "metadata": {
    "editable": true,
    "slideshow": {
     "slide_type": "fragment"
    },
    "tags": []
   },
   "outputs": [
    {
     "data": {
      "text/plain": [
       "int"
      ]
     },
     "execution_count": 2,
     "metadata": {},
     "output_type": "execute_result"
    }
   ],
   "source": [
    "x = 5\n",
    "type(x)"
   ]
  },
  {
   "cell_type": "code",
   "execution_count": 3,
   "metadata": {
    "editable": true,
    "slideshow": {
     "slide_type": ""
    },
    "tags": []
   },
   "outputs": [
    {
     "data": {
      "text/plain": [
       "float"
      ]
     },
     "execution_count": 3,
     "metadata": {},
     "output_type": "execute_result"
    }
   ],
   "source": [
    "y = 5.5\n",
    "type(y)"
   ]
  },
  {
   "cell_type": "markdown",
   "metadata": {
    "editable": true,
    "slideshow": {
     "slide_type": "slide"
    },
    "tags": []
   },
   "source": [
    "It's important to note: even though you don't have to specify a type, Python still assigns a type to variables. It would behoove you to know the types so you don't run into tricky type-related bugs!"
   ]
  },
  {
   "cell_type": "code",
   "execution_count": 4,
   "metadata": {
    "editable": true,
    "slideshow": {
     "slide_type": "fragment"
    },
    "tags": []
   },
   "outputs": [],
   "source": [
    "x = 5 * 5"
   ]
  },
  {
   "cell_type": "markdown",
   "metadata": {
    "editable": true,
    "slideshow": {
     "slide_type": ""
    },
    "tags": []
   },
   "source": [
    "What's the type for `x`?"
   ]
  },
  {
   "cell_type": "code",
   "execution_count": 5,
   "metadata": {
    "editable": true,
    "slideshow": {
     "slide_type": "fragment"
    },
    "tags": []
   },
   "outputs": [
    {
     "data": {
      "text/plain": [
       "int"
      ]
     },
     "execution_count": 5,
     "metadata": {},
     "output_type": "execute_result"
    }
   ],
   "source": [
    "type(x)"
   ]
  },
  {
   "cell_type": "code",
   "execution_count": 6,
   "metadata": {
    "editable": true,
    "slideshow": {
     "slide_type": "fragment"
    },
    "tags": []
   },
   "outputs": [],
   "source": [
    "y = 5 / 5"
   ]
  },
  {
   "cell_type": "markdown",
   "metadata": {
    "editable": true,
    "slideshow": {
     "slide_type": ""
    },
    "tags": []
   },
   "source": [
    "What's the type for `y`?"
   ]
  },
  {
   "cell_type": "code",
   "execution_count": 7,
   "metadata": {
    "editable": true,
    "slideshow": {
     "slide_type": "fragment"
    },
    "tags": []
   },
   "outputs": [
    {
     "data": {
      "text/plain": [
       "float"
      ]
     },
     "execution_count": 7,
     "metadata": {},
     "output_type": "execute_result"
    }
   ],
   "source": [
    "type(y)"
   ]
  },
  {
   "cell_type": "markdown",
   "metadata": {
    "editable": true,
    "slideshow": {
     "slide_type": "slide"
    },
    "tags": []
   },
   "source": [
    "There are functions you can use to explicitly *cast* a variable from one type to another:"
   ]
  },
  {
   "cell_type": "code",
   "execution_count": 8,
   "metadata": {
    "editable": true,
    "slideshow": {
     "slide_type": "-"
    },
    "tags": []
   },
   "outputs": [
    {
     "data": {
      "text/plain": [
       "float"
      ]
     },
     "execution_count": 8,
     "metadata": {},
     "output_type": "execute_result"
    }
   ],
   "source": [
    "x = 5 / 5\n",
    "type(x)"
   ]
  },
  {
   "cell_type": "code",
   "execution_count": 9,
   "metadata": {
    "editable": true,
    "slideshow": {
     "slide_type": ""
    },
    "tags": []
   },
   "outputs": [
    {
     "data": {
      "text/plain": [
       "int"
      ]
     },
     "execution_count": 9,
     "metadata": {},
     "output_type": "execute_result"
    }
   ],
   "source": [
    "y = int(x)\n",
    "type(y)"
   ]
  },
  {
   "cell_type": "code",
   "execution_count": 10,
   "metadata": {
    "editable": true,
    "slideshow": {
     "slide_type": ""
    },
    "tags": []
   },
   "outputs": [
    {
     "data": {
      "text/plain": [
       "str"
      ]
     },
     "execution_count": 10,
     "metadata": {},
     "output_type": "execute_result"
    }
   ],
   "source": [
    "z = str(y)\n",
    "type(z)"
   ]
  },
  {
   "cell_type": "markdown",
   "metadata": {
    "editable": true,
    "slideshow": {
     "slide_type": "slide"
    },
    "tags": []
   },
   "source": [
    "### Type Hinting"
   ]
  },
  {
   "cell_type": "markdown",
   "metadata": {
    "editable": true,
    "slideshow": {
     "slide_type": ""
    },
    "tags": []
   },
   "source": [
    "As of version 3.5, Python supports *type hinting*. The documentation makes this distinction clear:"
   ]
  },
  {
   "cell_type": "markdown",
   "metadata": {
    "editable": true,
    "slideshow": {
     "slide_type": "fragment"
    },
    "tags": []
   },
   "source": [
    "![](L2/typehints.png)"
   ]
  },
  {
   "cell_type": "markdown",
   "metadata": {
    "editable": true,
    "slideshow": {
     "slide_type": "fragment"
    },
    "tags": []
   },
   "source": [
    "Think of type hinting in Python as non-comment documentation."
   ]
  },
  {
   "cell_type": "markdown",
   "metadata": {
    "editable": true,
    "slideshow": {
     "slide_type": "slide"
    },
    "tags": []
   },
   "source": [
    "An example directly from the `typing` docs:"
   ]
  },
  {
   "cell_type": "code",
   "execution_count": 11,
   "metadata": {
    "editable": true,
    "slideshow": {
     "slide_type": "fragment"
    },
    "tags": []
   },
   "outputs": [],
   "source": [
    "def surface_area_of_cube(edge_length: float) -> str:\n",
    "    return f\"The surface area of the cube is {6 * edge_length ** 2}.\""
   ]
  },
  {
   "cell_type": "markdown",
   "metadata": {
    "editable": true,
    "slideshow": {
     "slide_type": "fragment"
    },
    "tags": []
   },
   "source": [
    "The function `surface_area_of_cube` takes a single argument `edge_length` which is expected to be of type `float`. The function then returns a value of type `str`."
   ]
  },
  {
   "cell_type": "markdown",
   "metadata": {
    "editable": true,
    "slideshow": {
     "slide_type": "slide"
    },
    "tags": []
   },
   "source": [
    "You can use type hinting to do type *aliasing* for convenience:"
   ]
  },
  {
   "cell_type": "code",
   "execution_count": 12,
   "metadata": {
    "editable": true,
    "slideshow": {
     "slide_type": ""
    },
    "tags": []
   },
   "outputs": [
    {
     "name": "stdout",
     "output_type": "stream",
     "text": [
      "[2.0, -8.4, 10.8]\n"
     ]
    }
   ],
   "source": [
    "Vector = list[float]\n",
    "# \"Vector\" types are now equivalent to \"list[float]\" types\n",
    "# in the eyes of any static checkers you use\n",
    "\n",
    "def scale(scalar: float, vector: Vector) -> Vector:\n",
    "    return [scalar * num for num in vector]\n",
    "\n",
    "# passes type checking; a list of floats qualifies as a Vector.\n",
    "new_vector = scale(2.0, [1.0, -4.2, 5.4])\n",
    "print(new_vector)"
   ]
  },
  {
   "cell_type": "markdown",
   "metadata": {
    "editable": true,
    "slideshow": {
     "slide_type": "fragment"
    },
    "tags": []
   },
   "source": [
    "**IMPORTANT**: Type hinting is a bleeding-edge feature in Python that is still undergoing a lot of changes. I struggled with this example for a good 15 minutes before realizing I was reading type hinting documentation for Python 3.13, which differs slightly from type hinting in 3.10."
   ]
  },
  {
   "cell_type": "markdown",
   "metadata": {
    "editable": true,
    "slideshow": {
     "slide_type": "slide"
    },
    "tags": []
   },
   "source": [
    "Type hinting is really cool, but keep in mind: **Python's runtime IGNORES type hints.** They are not enforced in any way by Python; they are purely for convenience, hence why I call them \"non-comment documentation.\""
   ]
  },
  {
   "cell_type": "markdown",
   "metadata": {
    "editable": true,
    "slideshow": {
     "slide_type": "fragment"
    },
    "tags": []
   },
   "source": [
    "If you want to actually _enforce_ type hints, you need a static type checker like [mypy](https://mypy.readthedocs.io/)"
   ]
  },
  {
   "cell_type": "markdown",
   "metadata": {
    "editable": true,
    "slideshow": {
     "slide_type": ""
    },
    "tags": []
   },
   "source": [
    "![](L2/mypy.png)"
   ]
  },
  {
   "cell_type": "markdown",
   "metadata": {
    "editable": true,
    "slideshow": {
     "slide_type": "slide"
    },
    "tags": []
   },
   "source": [
    "### Walrus Operator\n",
    "\n",
    "Introduced in Python 3.8 (still relatively recent!), the walrus operator, or \"Assignment Expression\", is a way of assigning a value to a variable in mid-expression.\n",
    "\n",
    "Other languages have had this ability for awhile, but there was heated debate about how best to implement this in Python."
   ]
  },
  {
   "cell_type": "markdown",
   "metadata": {
    "slideshow": {
     "slide_type": "fragment"
    }
   },
   "source": [
    "Normally, you'd first assign a value to a variable, and then perform a check."
   ]
  },
  {
   "cell_type": "code",
   "execution_count": 13,
   "metadata": {
    "slideshow": {
     "slide_type": "-"
    }
   },
   "outputs": [
    {
     "name": "stdout",
     "output_type": "stream",
     "text": [
      "We've reached this location\n"
     ]
    }
   ],
   "source": [
    "v = 10\n",
    "if (v > 5):\n",
    "    print(\"We've reached this location\")"
   ]
  },
  {
   "cell_type": "markdown",
   "metadata": {
    "slideshow": {
     "slide_type": "slide"
    }
   },
   "source": [
    "Alternatively, you can perform the assignment right in the middle of the expression."
   ]
  },
  {
   "cell_type": "code",
   "execution_count": 14,
   "metadata": {
    "slideshow": {
     "slide_type": "fragment"
    }
   },
   "outputs": [
    {
     "name": "stdout",
     "output_type": "stream",
     "text": [
      "We've now reached this location\n"
     ]
    }
   ],
   "source": [
    "if ((v := 10) > 5):\n",
    "    print(\"We've now reached this location\")"
   ]
  },
  {
   "cell_type": "markdown",
   "metadata": {
    "slideshow": {
     "slide_type": "fragment"
    }
   },
   "source": [
    "Note two important changes.\n",
    "\n",
    " 1. The operator itself: it's a colon \":\" and an assignment \"=\" smashed together. They look like the [walrus](https://en.wikipedia.org/wiki/Walrus), hence the name.\n",
    " 2. The assignment expression has been wrapped in an additional set of parentheses."
   ]
  },
  {
   "cell_type": "markdown",
   "metadata": {
    "slideshow": {
     "slide_type": "fragment"
    }
   },
   "source": [
    "Just as important to note: anywhere that you could use the walrus operator, you can also break it apart into two separate expressions! This is purely for brevity, but never sacrifice clarity for it."
   ]
  },
  {
   "cell_type": "markdown",
   "metadata": {
    "slideshow": {
     "slide_type": "slide"
    }
   },
   "source": [
    "### Data Structures"
   ]
  },
  {
   "cell_type": "markdown",
   "metadata": {},
   "source": [
    "There are four main types of built-in Python data structures, each similar but ever-so-slightly different:"
   ]
  },
  {
   "cell_type": "markdown",
   "metadata": {},
   "source": [
    " 1. Lists (the Python workhorse)\n",
    " 2. Tuples\n",
    " 3. Sets\n",
    " 4. Dictionaries"
   ]
  },
  {
   "cell_type": "markdown",
   "metadata": {
    "slideshow": {
     "slide_type": "fragment"
    }
   },
   "source": [
    "(Note: generators and comprehensions are worthy of mention; definitely look into these as well)"
   ]
  },
  {
   "cell_type": "markdown",
   "metadata": {
    "slideshow": {
     "slide_type": "slide"
    }
   },
   "source": [
    "Lists are basically your catch-all multi-element data structure; they can hold anything."
   ]
  },
  {
   "cell_type": "code",
   "execution_count": 15,
   "metadata": {},
   "outputs": [
    {
     "name": "stdout",
     "output_type": "stream",
     "text": [
      "6.2\n"
     ]
    },
    {
     "data": {
      "text/plain": [
       "list"
      ]
     },
     "execution_count": 15,
     "metadata": {},
     "output_type": "execute_result"
    }
   ],
   "source": [
    "some_list = [1, 2, 'something', 6.2, [\"another\", \"list!\"], 7371]\n",
    "print(some_list[3])\n",
    "type(some_list)"
   ]
  },
  {
   "cell_type": "markdown",
   "metadata": {
    "slideshow": {
     "slide_type": "fragment"
    }
   },
   "source": [
    "Tuples are like lists, except they're *immutable* once you've built them (and denoted by parentheses, instead of brackets)."
   ]
  },
  {
   "cell_type": "code",
   "execution_count": 16,
   "metadata": {},
   "outputs": [
    {
     "name": "stdout",
     "output_type": "stream",
     "text": [
      "7371\n"
     ]
    },
    {
     "data": {
      "text/plain": [
       "tuple"
      ]
     },
     "execution_count": 16,
     "metadata": {},
     "output_type": "execute_result"
    }
   ],
   "source": [
    "some_tuple = (1, 2, 'something', 6.2, [\"another\", \"list!\"], 7371)\n",
    "print(some_tuple[5])\n",
    "type(some_tuple)"
   ]
  },
  {
   "cell_type": "markdown",
   "metadata": {
    "slideshow": {
     "slide_type": "slide"
    }
   },
   "source": [
    "Sets are probably the most different: they are mutable (can be changed), but are *unordered* and *can only contain unique items* (they automatically drop duplicates you try to add). They are denoted by braces."
   ]
  },
  {
   "cell_type": "code",
   "execution_count": 17,
   "metadata": {},
   "outputs": [
    {
     "name": "stdout",
     "output_type": "stream",
     "text": [
      "{73, 'something', 1, 86}\n"
     ]
    },
    {
     "data": {
      "text/plain": [
       "set"
      ]
     },
     "execution_count": 17,
     "metadata": {},
     "output_type": "execute_result"
    }
   ],
   "source": [
    "some_set = {1, 1, 1, 1, 1, 86, \"something\", 73}\n",
    "some_set.add(1)\n",
    "print(some_set)\n",
    "type(some_set)"
   ]
  },
  {
   "cell_type": "markdown",
   "metadata": {
    "slideshow": {
     "slide_type": "slide"
    }
   },
   "source": [
    "Finally, dictionaries. Other terms that may be more familiar include: maps, hashmaps, or associative arrays. They're a combination of sets (for their *key* mechanism) and lists (for their *value* mechanism)."
   ]
  },
  {
   "cell_type": "code",
   "execution_count": 18,
   "metadata": {},
   "outputs": [
    {
     "name": "stdout",
     "output_type": "stream",
     "text": [
      "[1, 3, 4]\n"
     ]
    },
    {
     "data": {
      "text/plain": [
       "dict"
      ]
     },
     "execution_count": 18,
     "metadata": {},
     "output_type": "execute_result"
    }
   ],
   "source": [
    "some_dict = {\"key\": \"value\", \"another_key\": [1, 3, 4], 3: [\"this\", \"value\"]}\n",
    "print(some_dict[\"another_key\"])\n",
    "type(some_dict)"
   ]
  },
  {
   "cell_type": "markdown",
   "metadata": {},
   "source": [
    "Dictionaries explicitly set up a mapping between a *key*--keys are unique and unordered, exactly like sets--to *values*, which are an arbitrary list of items. These are very powerful structures for data science-y applications."
   ]
  },
  {
   "cell_type": "markdown",
   "metadata": {
    "slideshow": {
     "slide_type": "slide"
    }
   },
   "source": [
    "### Slicing and Indexing"
   ]
  },
  {
   "cell_type": "markdown",
   "metadata": {},
   "source": [
    "Ordered data structures in Python are 0-indexed (like C, C++, and Java). This means the first elements are at index 0:"
   ]
  },
  {
   "cell_type": "code",
   "execution_count": 19,
   "metadata": {
    "slideshow": {
     "slide_type": "fragment"
    }
   },
   "outputs": [
    {
     "name": "stdout",
     "output_type": "stream",
     "text": [
      "[1, 2, 'something', 6.2, ['another', 'list!'], 7371]\n"
     ]
    }
   ],
   "source": [
    "print(some_list)"
   ]
  },
  {
   "cell_type": "code",
   "execution_count": 20,
   "metadata": {},
   "outputs": [
    {
     "name": "stdout",
     "output_type": "stream",
     "text": [
      "1\n"
     ]
    }
   ],
   "source": [
    "index = 0\n",
    "print(some_list[index])"
   ]
  },
  {
   "cell_type": "markdown",
   "metadata": {
    "slideshow": {
     "slide_type": "slide"
    }
   },
   "source": [
    "However, using colon notation, you can \"slice out\" entire sections of ordered structures."
   ]
  },
  {
   "cell_type": "code",
   "execution_count": 21,
   "metadata": {
    "slideshow": {
     "slide_type": "fragment"
    }
   },
   "outputs": [
    {
     "name": "stdout",
     "output_type": "stream",
     "text": [
      "[1, 2, 'something']\n"
     ]
    }
   ],
   "source": [
    "start = 0\n",
    "end = 3\n",
    "print(some_list[start : end])"
   ]
  },
  {
   "cell_type": "markdown",
   "metadata": {},
   "source": [
    "Note that the starting index is *inclusive*, but the ending index is *exclusive*. Also, if you omit the starting index, Python assumes you mean 0 (start at the beginning); likewise, if you omit the ending index, Python assumes you mean \"go to the very end\"."
   ]
  },
  {
   "cell_type": "code",
   "execution_count": 22,
   "metadata": {
    "slideshow": {
     "slide_type": "fragment"
    }
   },
   "outputs": [
    {
     "name": "stdout",
     "output_type": "stream",
     "text": [
      "[1, 2, 'something']\n"
     ]
    }
   ],
   "source": [
    "print(some_list[:end])"
   ]
  },
  {
   "cell_type": "code",
   "execution_count": 23,
   "metadata": {},
   "outputs": [
    {
     "name": "stdout",
     "output_type": "stream",
     "text": [
      "[2, 'something', 6.2, ['another', 'list!'], 7371]\n"
     ]
    }
   ],
   "source": [
    "start = 1\n",
    "print(some_list[start:])"
   ]
  },
  {
   "cell_type": "markdown",
   "metadata": {
    "slideshow": {
     "slide_type": "slide"
    }
   },
   "source": [
    "### Loops\n",
    "\n",
    "Python supports two kinds of loops: `for` and `while`"
   ]
  },
  {
   "cell_type": "markdown",
   "metadata": {},
   "source": [
    "`for` loops in Python are, in practice, closer to *for each* loops in other languages: they iterate through collections of items, rather than incrementing indices."
   ]
  },
  {
   "cell_type": "code",
   "execution_count": 24,
   "metadata": {
    "slideshow": {
     "slide_type": "fragment"
    }
   },
   "outputs": [
    {
     "name": "stdout",
     "output_type": "stream",
     "text": [
      "1\n",
      "2\n",
      "something\n",
      "6.2\n",
      "['another', 'list!']\n",
      "7371\n"
     ]
    }
   ],
   "source": [
    "for item in some_list:\n",
    "    print(item)"
   ]
  },
  {
   "cell_type": "markdown",
   "metadata": {},
   "source": [
    " - the collection to be iterated through is at the end (`some_list`)\n",
    " - the current item being iterated over is given a variable after the `for` statement (`item`)\n",
    " - the loop body says what to do in an iteration (`print(item)`)"
   ]
  },
  {
   "cell_type": "markdown",
   "metadata": {
    "slideshow": {
     "slide_type": "slide"
    }
   },
   "source": [
    "But if you need to iterate by index, check out the `enumerate` function:"
   ]
  },
  {
   "cell_type": "code",
   "execution_count": 25,
   "metadata": {},
   "outputs": [
    {
     "name": "stdout",
     "output_type": "stream",
     "text": [
      "0: 1\n",
      "1: 2\n",
      "2: something\n",
      "3: 6.2\n",
      "4: ['another', 'list!']\n",
      "5: 7371\n"
     ]
    }
   ],
   "source": [
    "for index, item in enumerate(some_list):\n",
    "    print(\"{}: {}\".format(index, item))"
   ]
  },
  {
   "cell_type": "markdown",
   "metadata": {
    "slideshow": {
     "slide_type": "slide"
    }
   },
   "source": [
    "`while` loops operate as you've probably come to expect: there is some associated boolean condition, and as long as that condition remains `True`, the loop will keep happening."
   ]
  },
  {
   "cell_type": "code",
   "execution_count": 26,
   "metadata": {
    "slideshow": {
     "slide_type": "fragment"
    }
   },
   "outputs": [
    {
     "name": "stdout",
     "output_type": "stream",
     "text": [
      "0\n",
      "2\n",
      "4\n",
      "6\n",
      "8\n"
     ]
    }
   ],
   "source": [
    "i = 0\n",
    "while i < 10:\n",
    "    print(i)\n",
    "    i += 2"
   ]
  },
  {
   "cell_type": "markdown",
   "metadata": {
    "slideshow": {
     "slide_type": "-"
    }
   },
   "source": [
    "**IMPORTANT**: Do not forget to perform the *update* step in the body of the `while` loop! After using `for` loops, it's easy to become complacent and think that Python will update things automatically for you. If you forget that critical `i += 2` line in the loop body, this loop will go on forever..."
   ]
  },
  {
   "cell_type": "markdown",
   "metadata": {
    "slideshow": {
     "slide_type": "slide"
    }
   },
   "source": [
    "Another cool looping utility when you have multiple collections of identical length you want to loop through simultaneously: the `zip()` function"
   ]
  },
  {
   "cell_type": "code",
   "execution_count": 27,
   "metadata": {
    "slideshow": {
     "slide_type": "fragment"
    }
   },
   "outputs": [
    {
     "name": "stdout",
     "output_type": "stream",
     "text": [
      "1 4 7\n",
      "2 5 8\n",
      "3 6 9\n"
     ]
    }
   ],
   "source": [
    "list1 = [1, 2, 3]\n",
    "list2 = [4, 5, 6]\n",
    "list3 = [7, 8, 9]\n",
    "\n",
    "for x, y, z in zip(list1, list2, list3):\n",
    "    print(\"{} {} {}\".format(x, y, z))"
   ]
  },
  {
   "cell_type": "markdown",
   "metadata": {},
   "source": [
    "This \"zips\" together the lists and picks corresponding elements from each for every loop iteration. Way easier than trying to set up a numerical index to loop through all three simultaneously, but you can even combine this with `enumerate` to do exactly that:"
   ]
  },
  {
   "cell_type": "code",
   "execution_count": 28,
   "metadata": {
    "slideshow": {
     "slide_type": "fragment"
    }
   },
   "outputs": [
    {
     "name": "stdout",
     "output_type": "stream",
     "text": [
      "0: (1, 4, 7)\n",
      "1: (2, 5, 8)\n",
      "2: (3, 6, 9)\n"
     ]
    }
   ],
   "source": [
    "for index, (x, y, z) in enumerate(zip(list1, list2, list3)):\n",
    "    print(\"{}: ({}, {}, {})\".format(index, x, y, z))"
   ]
  },
  {
   "cell_type": "markdown",
   "metadata": {
    "slideshow": {
     "slide_type": "slide"
    }
   },
   "source": [
    "### Conditionals\n",
    "\n",
    "Conditionals, or `if` statements, allow you to branch the execution of your code depending on certain circumstances.\n",
    "\n",
    "In Python, this entails three keywords: `if`, `elif`, and `else`."
   ]
  },
  {
   "cell_type": "code",
   "execution_count": 29,
   "metadata": {
    "slideshow": {
     "slide_type": "fragment"
    }
   },
   "outputs": [
    {
     "name": "stdout",
     "output_type": "stream",
     "text": [
      "B\n"
     ]
    }
   ],
   "source": [
    "grade = 82\n",
    "if grade > 90:\n",
    "    print(\"A\")\n",
    "elif grade > 80:\n",
    "    print(\"B\")\n",
    "else:\n",
    "    print(\"Something else\")"
   ]
  },
  {
   "cell_type": "markdown",
   "metadata": {},
   "source": [
    "A couple important differences from C/C++/Java parlance:\n",
    " - **NO** parentheses around the boolean condition!\n",
    " - It's not \"`else if`\" or \"`elseif`\", just \"`elif`\". It's admittedly weird, but it's Python"
   ]
  },
  {
   "cell_type": "markdown",
   "metadata": {
    "slideshow": {
     "slide_type": "slide"
    }
   },
   "source": [
    "Conditionals, when used with loops, offer a powerful way of slightly tweaking loop behavior with two keywords: `continue` and `break`.\n",
    "\n",
    "The former is used when you want to skip an iteration of the loop, but nonetheless keep going on to the *next* iteration."
   ]
  },
  {
   "cell_type": "code",
   "execution_count": 30,
   "metadata": {
    "slideshow": {
     "slide_type": "fragment"
    }
   },
   "outputs": [
    {
     "name": "stdout",
     "output_type": "stream",
     "text": [
      "4.4\n",
      "1.2\n",
      "6898.32\n",
      "5289.24\n",
      "25.1\n",
      "52.4\n"
     ]
    }
   ],
   "source": [
    "list_of_data = [4.4, 1.2, 6898.32, \"bad data!\", 5289.24, 25.1, \"other bad data!\", 52.4]\n",
    "\n",
    "for x in list_of_data:\n",
    "    if type(x) == str:\n",
    "        continue\n",
    "    \n",
    "    # This stuff gets skipped anytime the \"continue\" is run\n",
    "    print(x)"
   ]
  },
  {
   "cell_type": "markdown",
   "metadata": {
    "slideshow": {
     "slide_type": "slide"
    }
   },
   "source": [
    "`break`, on the other hand, literally slams the brakes on a loop, pulling you out one level of indentation immediately."
   ]
  },
  {
   "cell_type": "code",
   "execution_count": 31,
   "metadata": {},
   "outputs": [
    {
     "name": "stdout",
     "output_type": "stream",
     "text": [
      "200\n"
     ]
    }
   ],
   "source": [
    "import random\n",
    "\n",
    "i = 0\n",
    "iters = 0\n",
    "while True:\n",
    "    iters += 1\n",
    "    i += random.randint(0, 10)\n",
    "    if i > 1000:\n",
    "        break\n",
    "\n",
    "print(iters)"
   ]
  },
  {
   "cell_type": "markdown",
   "metadata": {
    "slideshow": {
     "slide_type": "slide"
    }
   },
   "source": [
    "### Structural Pattern Matching\n",
    "\n",
    "This is a fancy way of describing what is essentially a _switch statement_ from C/C++/Java.\n",
    "\n",
    "Introduced in Python 3.10 (so, [very new!](https://docs.python.org/3.10/whatsnew/3.10.html#pep-634-structural-pattern-matching)), you can now match patterns as a way of introducing conditions."
   ]
  },
  {
   "cell_type": "code",
   "execution_count": 32,
   "metadata": {
    "slideshow": {
     "slide_type": "fragment"
    }
   },
   "outputs": [],
   "source": [
    "def http_error(status):\n",
    "    match status:\n",
    "        case 400:\n",
    "            return \"Bad request\"\n",
    "        case 404:\n",
    "            return \"Not found\"\n",
    "        case 418:\n",
    "            return \"I'm a teapot\"\n",
    "\n",
    "        # If an exact match is not confirmed, this last case will be used if provided\n",
    "        case _:\n",
    "            return \"Something's wrong with the internet\""
   ]
  },
  {
   "cell_type": "code",
   "execution_count": 33,
   "metadata": {
    "editable": true,
    "slideshow": {
     "slide_type": "slide"
    },
    "tags": []
   },
   "outputs": [
    {
     "data": {
      "text/plain": [
       "'Not found'"
      ]
     },
     "execution_count": 33,
     "metadata": {},
     "output_type": "execute_result"
    }
   ],
   "source": [
    "http_error(404)"
   ]
  },
  {
   "cell_type": "code",
   "execution_count": 34,
   "metadata": {
    "slideshow": {
     "slide_type": "fragment"
    }
   },
   "outputs": [
    {
     "data": {
      "text/plain": [
       "\"Something's wrong with the internet\""
      ]
     },
     "execution_count": 34,
     "metadata": {},
     "output_type": "execute_result"
    }
   ],
   "source": [
    "http_error(502)"
   ]
  },
  {
   "cell_type": "markdown",
   "metadata": {
    "slideshow": {
     "slide_type": "slide"
    }
   },
   "source": [
    "These can get _really complex_, so I'd recommend checking out the PEP documentation."
   ]
  },
  {
   "cell_type": "markdown",
   "metadata": {
    "slideshow": {
     "slide_type": "fragment"
    }
   },
   "source": [
    "![](L2/patmatch-guard.png)"
   ]
  },
  {
   "cell_type": "markdown",
   "metadata": {
    "slideshow": {
     "slide_type": "slide"
    }
   },
   "source": [
    "### File I/O"
   ]
  },
  {
   "cell_type": "markdown",
   "metadata": {},
   "source": [
    "Python has a great file I/O library. There are usually third-party libraries that expedite reading certain often-used formats (JSON, XML, binary formats, etc), but you should still be familiar with input/output handles and how they work:"
   ]
  },
  {
   "cell_type": "code",
   "execution_count": 35,
   "metadata": {
    "slideshow": {
     "slide_type": "fragment"
    }
   },
   "outputs": [],
   "source": [
    "text_to_write = \"I want to save this to a file.\"\n",
    "f = open(\"some_file.txt\", \"w\")\n",
    "f.write(text_to_write)\n",
    "f.close()"
   ]
  },
  {
   "cell_type": "markdown",
   "metadata": {},
   "source": [
    "This code writes the string on the first line to a file named `some_file.txt`. We can read it back:"
   ]
  },
  {
   "cell_type": "code",
   "execution_count": 36,
   "metadata": {
    "editable": true,
    "slideshow": {
     "slide_type": "fragment"
    },
    "tags": []
   },
   "outputs": [
    {
     "name": "stdout",
     "output_type": "stream",
     "text": [
      "I want to save this to a file.\n"
     ]
    }
   ],
   "source": [
    "f = open(\"some_file.txt\", \"r\")\n",
    "from_file = f.read()\n",
    "f.close()\n",
    "print(from_file)"
   ]
  },
  {
   "cell_type": "markdown",
   "metadata": {
    "editable": true,
    "slideshow": {
     "slide_type": "slide"
    },
    "tags": []
   },
   "source": [
    "Take note what changed: when writing, we used a `\"w\"` character in the `open` argument, but when reading we used `\"r\"`. Hopefully this is easy to remember.\n",
    "\n",
    "Also, when reading/writing *binary* files, you have to include a \"b\": `\"rb\"` or `\"wb\"`."
   ]
  },
  {
   "cell_type": "markdown",
   "metadata": {
    "slideshow": {
     "slide_type": "slide"
    }
   },
   "source": [
    "### Functions"
   ]
  },
  {
   "cell_type": "markdown",
   "metadata": {},
   "source": [
    "A core tenet in writing functions is that **functions should do one thing, and do it well**.\n",
    "\n",
    "Writing good functions makes code *much* easier to troubleshoot and debug, as the code is already logically separated into components that perform very specific tasks. Thus, if your application is breaking, you usually have a good idea where to start looking.\n",
    "\n",
    "**WARNING**: It's very easy to get caught up writing \"god functions\": one or two massive functions that essentially do everything you need your program to do. But if something breaks, this design is very difficult to debug.\n",
    "\n",
    "Homework assignments will often require you to break your code into functions so different portions can be autograded."
   ]
  },
  {
   "cell_type": "markdown",
   "metadata": {
    "slideshow": {
     "slide_type": "slide"
    }
   },
   "source": [
    "Functions have a header definition and a body:"
   ]
  },
  {
   "cell_type": "code",
   "execution_count": 37,
   "metadata": {
    "slideshow": {
     "slide_type": "fragment"
    }
   },
   "outputs": [],
   "source": [
    "def some_function():  # This line is the header\n",
    "    pass              # Everything after (that's indented) is the body"
   ]
  },
  {
   "cell_type": "markdown",
   "metadata": {},
   "source": [
    "This function doesn't do anything, but it's perfectly valid. We can call it:"
   ]
  },
  {
   "cell_type": "code",
   "execution_count": 38,
   "metadata": {
    "slideshow": {
     "slide_type": "fragment"
    }
   },
   "outputs": [],
   "source": [
    "some_function()"
   ]
  },
  {
   "cell_type": "markdown",
   "metadata": {
    "slideshow": {
     "slide_type": "slide"
    }
   },
   "source": [
    "Not terribly interesting, but a good outline. To make it interesting, we should add input arguments and return values:"
   ]
  },
  {
   "cell_type": "code",
   "execution_count": 39,
   "metadata": {
    "slideshow": {
     "slide_type": "-"
    }
   },
   "outputs": [],
   "source": [
    "def vector_magnitude(vector):\n",
    "    d = 0.0\n",
    "    for x in vector:\n",
    "        d += x ** 2\n",
    "    return d ** 0.5"
   ]
  },
  {
   "cell_type": "code",
   "execution_count": 40,
   "metadata": {
    "slideshow": {
     "slide_type": "fragment"
    }
   },
   "outputs": [
    {
     "name": "stdout",
     "output_type": "stream",
     "text": [
      "1.4142135623730951\n"
     ]
    }
   ],
   "source": [
    "v1 = [1, 1]\n",
    "d1 = vector_magnitude(v1)\n",
    "print(d1)"
   ]
  },
  {
   "cell_type": "code",
   "execution_count": 41,
   "metadata": {
    "slideshow": {
     "slide_type": "fragment"
    }
   },
   "outputs": [
    {
     "name": "stdout",
     "output_type": "stream",
     "text": [
      "54.95862079783298\n"
     ]
    }
   ],
   "source": [
    "v2 = [53.3, 13.4]\n",
    "d2 = vector_magnitude(v2)\n",
    "print(d2)"
   ]
  },
  {
   "cell_type": "markdown",
   "metadata": {
    "slideshow": {
     "slide_type": "slide"
    }
   },
   "source": [
    "### NumPy Arrays\n",
    "\n",
    "If you looked at our previous `vector_magnitude` function and thought \"there must be an easier way to do this\", then you were correct: that easier way is NumPy arrays.\n",
    "\n",
    "NumPy arrays are the result of taking Python lists and adding a ton of back-end C++ code to make them *really* efficient.\n",
    "\n",
    "Two areas where they excel: *vectorized programming* and *fancy indexing*."
   ]
  },
  {
   "cell_type": "markdown",
   "metadata": {
    "slideshow": {
     "slide_type": "fragment"
    }
   },
   "source": [
    "Vectorized programming is perfectly demonstrated with our previous `vector_magnitude` function: since we're performing the same operation on every element of the vector, NumPy allows us to build code that implicitly handles the loop"
   ]
  },
  {
   "cell_type": "code",
   "execution_count": 42,
   "metadata": {},
   "outputs": [],
   "source": [
    "import numpy as np\n",
    "\n",
    "def vectorized_magnitude(vector):\n",
    "    return (vector ** 2).sum() ** 0.5"
   ]
  },
  {
   "cell_type": "code",
   "execution_count": 43,
   "metadata": {
    "slideshow": {
     "slide_type": "slide"
    }
   },
   "outputs": [
    {
     "name": "stdout",
     "output_type": "stream",
     "text": [
      "1.4142135623730951\n"
     ]
    }
   ],
   "source": [
    "v1 = np.array([1, 1])\n",
    "d1 = vectorized_magnitude(v1)\n",
    "print(d1)"
   ]
  },
  {
   "cell_type": "code",
   "execution_count": 44,
   "metadata": {
    "slideshow": {
     "slide_type": "fragment"
    }
   },
   "outputs": [
    {
     "name": "stdout",
     "output_type": "stream",
     "text": [
      "54.95862079783298\n"
     ]
    }
   ],
   "source": [
    "v2 = np.array([53.3, 13.4])\n",
    "d2 = vectorized_magnitude(v2)\n",
    "print(d2)"
   ]
  },
  {
   "cell_type": "markdown",
   "metadata": {
    "slideshow": {
     "slide_type": "slide"
    }
   },
   "source": [
    "We've also seen indexing and slicing before; here, however, NumPy really shines.\n",
    "\n",
    "Let's say we have some super high-dimensional data:"
   ]
  },
  {
   "cell_type": "code",
   "execution_count": 45,
   "metadata": {},
   "outputs": [],
   "source": [
    "X = np.random.random((500, 600, 250))"
   ]
  },
  {
   "cell_type": "markdown",
   "metadata": {
    "slideshow": {
     "slide_type": "fragment"
    }
   },
   "source": [
    "We can take statistics of any dimension or slice we want:"
   ]
  },
  {
   "cell_type": "code",
   "execution_count": 46,
   "metadata": {
    "slideshow": {
     "slide_type": "fragment"
    }
   },
   "outputs": [
    {
     "data": {
      "text/plain": [
       "0.49956684956905956"
      ]
     },
     "execution_count": 46,
     "metadata": {},
     "output_type": "execute_result"
    }
   ],
   "source": [
    "X[:400, 100:200, 0].mean()"
   ]
  },
  {
   "cell_type": "code",
   "execution_count": 47,
   "metadata": {
    "slideshow": {
     "slide_type": "fragment"
    }
   },
   "outputs": [
    {
     "data": {
      "text/plain": [
       "0.0028872417363789192"
      ]
     },
     "execution_count": 47,
     "metadata": {},
     "output_type": "execute_result"
    }
   ],
   "source": [
    "X[X < 0.01].std()"
   ]
  },
  {
   "cell_type": "code",
   "execution_count": 48,
   "metadata": {
    "editable": true,
    "slideshow": {
     "slide_type": "slide"
    },
    "tags": []
   },
   "outputs": [
    {
     "data": {
      "text/plain": [
       "array([0.49944172, 0.47224418, 0.517016  , 0.50349409, 0.46108838,\n",
       "       0.48671116, 0.44074704, 0.57138506, 0.46698106, 0.47233007,\n",
       "       0.50659231, 0.52285567, 0.48836735, 0.5033266 , 0.51291024,\n",
       "       0.49224532, 0.50181827, 0.51582447, 0.5169269 , 0.45603042,\n",
       "       0.49091331, 0.48080555, 0.45988305, 0.47888684, 0.47576944,\n",
       "       0.49183819, 0.49314842, 0.49403733, 0.46064221, 0.4553653 ,\n",
       "       0.47834965, 0.49981028, 0.50150973, 0.49048384, 0.43660323,\n",
       "       0.5182332 , 0.5299335 , 0.53405866, 0.50739176, 0.47930836,\n",
       "       0.51570378, 0.46031199, 0.47148859, 0.51785771, 0.50412137,\n",
       "       0.42598752, 0.47060743, 0.51522468, 0.49033351, 0.52644648,\n",
       "       0.51289712, 0.49268783, 0.47309393, 0.50397807, 0.50025523,\n",
       "       0.5109229 , 0.49934955, 0.49763461, 0.49749783, 0.52540606,\n",
       "       0.51153779, 0.5483544 , 0.47759441, 0.51782639, 0.53851302,\n",
       "       0.50614338, 0.44742773, 0.50187189, 0.52683583, 0.53371706,\n",
       "       0.49960892, 0.52164817, 0.5004231 , 0.51978887, 0.55740953,\n",
       "       0.47009899, 0.5374541 , 0.55775634, 0.49384248, 0.46166015,\n",
       "       0.45705687, 0.50032478, 0.48580515, 0.52434765, 0.46575697,\n",
       "       0.5048663 , 0.50845653, 0.48783786, 0.45561966, 0.50996148,\n",
       "       0.44267819, 0.46429146, 0.49080507, 0.56099999, 0.51118655,\n",
       "       0.51626106, 0.46647207, 0.5022075 , 0.53726753, 0.5273155 ,\n",
       "       0.48250798, 0.44602433, 0.54594293, 0.44886197, 0.52085765,\n",
       "       0.5172152 , 0.510806  , 0.53143531, 0.49686568, 0.54907925,\n",
       "       0.47103954, 0.4569552 , 0.50612796, 0.47359769, 0.46726589,\n",
       "       0.49092668, 0.52160274, 0.49445655, 0.47481545, 0.51986045,\n",
       "       0.4645771 , 0.50504025, 0.48598514, 0.54349689, 0.52886988,\n",
       "       0.48951703, 0.49874588, 0.51261301, 0.51174858, 0.44672477,\n",
       "       0.50939732, 0.49926906, 0.52995372, 0.49915156, 0.48606955,\n",
       "       0.45879912, 0.4993576 , 0.47732875, 0.51422616, 0.50842305,\n",
       "       0.52606065, 0.51056631, 0.52692134, 0.51360492, 0.43115107,\n",
       "       0.50508275, 0.51537996, 0.51384165, 0.49523427, 0.51522605,\n",
       "       0.52643971, 0.54313007, 0.50402494, 0.54279303, 0.53794727,\n",
       "       0.47662113, 0.55428043, 0.50103287, 0.45111527, 0.51048139,\n",
       "       0.50092177, 0.47751149, 0.49007899, 0.46597269, 0.49654727,\n",
       "       0.60071381, 0.47776453, 0.51690874, 0.51121973, 0.50009558,\n",
       "       0.49712861, 0.49690188, 0.5171476 , 0.53716952, 0.46234302,\n",
       "       0.45343986, 0.55212739, 0.49821131, 0.47929445, 0.49196264,\n",
       "       0.48724377, 0.5151308 , 0.51013592, 0.55465297, 0.51634832,\n",
       "       0.47694583, 0.47757639, 0.50539882, 0.50556321, 0.56490288,\n",
       "       0.47782577, 0.46904687, 0.5017327 , 0.49909327, 0.48725312,\n",
       "       0.48349753, 0.47363641, 0.55014743, 0.47928807, 0.45933692,\n",
       "       0.4917468 , 0.51841705, 0.50122563, 0.49939172, 0.53694635,\n",
       "       0.5066837 , 0.46457108, 0.49269088, 0.44310722, 0.48491748,\n",
       "       0.50766502, 0.48549954, 0.53271156, 0.46237328, 0.53034208,\n",
       "       0.49791838, 0.53811023, 0.54690621, 0.49264095, 0.44635657,\n",
       "       0.50149166, 0.51886277, 0.50646291, 0.54953599, 0.49604619,\n",
       "       0.49063266, 0.48878558, 0.47588801, 0.50168612, 0.47615474,\n",
       "       0.52167071, 0.45285666, 0.49851434, 0.4457162 , 0.48632062,\n",
       "       0.46622351, 0.51003479, 0.51390749, 0.50246842, 0.48775464,\n",
       "       0.48737728, 0.47531672, 0.47118079, 0.54723681, 0.51643477,\n",
       "       0.4850125 , 0.5449987 , 0.47502235, 0.47689017, 0.5564529 ,\n",
       "       0.53008977, 0.56001498, 0.49498323, 0.51349286, 0.50050063,\n",
       "       0.5168905 , 0.51821422, 0.46100034, 0.48183402, 0.49043079,\n",
       "       0.50220385, 0.50896885, 0.49612849, 0.4972982 , 0.48411812,\n",
       "       0.47877529, 0.52273271, 0.50690892, 0.49702295, 0.51170299,\n",
       "       0.48419898, 0.55120715, 0.48788084, 0.49368935, 0.47958947,\n",
       "       0.51375701, 0.55321104, 0.48817874, 0.5601759 , 0.50582612,\n",
       "       0.46503825, 0.4935711 , 0.51537612, 0.47421267, 0.46078434,\n",
       "       0.54146113, 0.48016893, 0.57660981, 0.45924089, 0.52338895,\n",
       "       0.54414314, 0.4924024 , 0.49816681, 0.50176946, 0.49535534,\n",
       "       0.51569646, 0.49201297, 0.47665844, 0.55592794, 0.51593156,\n",
       "       0.46550959, 0.4901271 , 0.46782311, 0.53322462, 0.51293972,\n",
       "       0.50623515, 0.50206964, 0.51018483, 0.47214767, 0.4875291 ,\n",
       "       0.52322358, 0.50890249, 0.49742876, 0.48866275, 0.49913119,\n",
       "       0.50038124, 0.50405758, 0.50284793, 0.53134594, 0.49120772,\n",
       "       0.47119844, 0.47984838, 0.46896369, 0.5162869 , 0.51060861,\n",
       "       0.46716994, 0.46138321, 0.51831758, 0.45034293, 0.50727217,\n",
       "       0.48425117, 0.49901586, 0.5117877 , 0.44626091, 0.49366251,\n",
       "       0.52250622, 0.47137421, 0.48823022, 0.46355799, 0.48297531,\n",
       "       0.45849614, 0.49826603, 0.5018006 , 0.53027553, 0.49104429,\n",
       "       0.53475808, 0.53419603, 0.51336594, 0.49737664, 0.44425113,\n",
       "       0.43717835, 0.48035877, 0.52054145, 0.48625197, 0.50322102,\n",
       "       0.5371977 , 0.49029784, 0.53773795, 0.49560237, 0.532912  ,\n",
       "       0.52124736, 0.48952215, 0.47378606, 0.52146146, 0.50099963,\n",
       "       0.54012174, 0.52125253, 0.48572131, 0.4737778 , 0.47305307,\n",
       "       0.45826967, 0.49166773, 0.50355952, 0.46341002, 0.51864045,\n",
       "       0.5396732 , 0.50692607, 0.48555718, 0.54058632, 0.52850325,\n",
       "       0.49126665, 0.53142638, 0.52608114, 0.51330806, 0.46695512,\n",
       "       0.43617527, 0.53669919, 0.4857681 , 0.49537785, 0.52160501,\n",
       "       0.50152158, 0.45031192, 0.5106592 , 0.52725318, 0.52884444,\n",
       "       0.55194157, 0.44346731, 0.50068734, 0.52517367, 0.49241824])"
      ]
     },
     "execution_count": 48,
     "metadata": {},
     "output_type": "execute_result"
    }
   ],
   "source": [
    "X[:400, 100:200, 0].mean(axis = 1)"
   ]
  },
  {
   "cell_type": "markdown",
   "metadata": {
    "editable": true,
    "slideshow": {
     "slide_type": "slide"
    },
    "tags": []
   },
   "source": [
    "## Parting Thoughts"
   ]
  },
  {
   "cell_type": "markdown",
   "metadata": {
    "editable": true,
    "slideshow": {
     "slide_type": "fragment"
    },
    "tags": []
   },
   "source": [
    " - Python is a dynamically typed language with loads of built-in constructs"
   ]
  },
  {
   "cell_type": "markdown",
   "metadata": {
    "editable": true,
    "slideshow": {
     "slide_type": "fragment"
    },
    "tags": []
   },
   "source": [
    " - Get used to types, functions, collections, loops, conditionals, and NumPy arrays"
   ]
  },
  {
   "cell_type": "markdown",
   "metadata": {
    "editable": true,
    "slideshow": {
     "slide_type": "fragment"
    },
    "tags": []
   },
   "source": [
    " - Documentation is your friend, both as a consumer (Python docs, package readthedocs) and a creator (comments, type hints, good variable and function naming conventions)"
   ]
  },
  {
   "cell_type": "markdown",
   "metadata": {
    "editable": true,
    "slideshow": {
     "slide_type": "fragment"
    },
    "tags": []
   },
   "source": [
    " - NumPy arrays in particular will be important going forward into machine learning"
   ]
  },
  {
   "cell_type": "markdown",
   "metadata": {
    "editable": true,
    "slideshow": {
     "slide_type": "slide"
    },
    "tags": []
   },
   "source": [
    "## Questions?"
   ]
  },
  {
   "cell_type": "markdown",
   "metadata": {
    "editable": true,
    "slideshow": {
     "slide_type": ""
    },
    "tags": []
   },
   "source": [
    "## References\n",
    "\n",
    " - Python documentation https://docs.python.org/3/ (make sure you select the right Python version from the drop-down menu)\n",
    " - Mypy static type checker cheat sheet https://mypy.readthedocs.io/en/stable/cheat_sheet_py3.html"
   ]
  }
 ],
 "metadata": {
  "celltoolbar": "Slideshow",
  "kernelspec": {
   "display_name": "Python [conda env:base] *",
   "language": "python",
   "name": "conda-base-py"
  },
  "language_info": {
   "codemirror_mode": {
    "name": "ipython",
    "version": 3
   },
   "file_extension": ".py",
   "mimetype": "text/x-python",
   "name": "python",
   "nbconvert_exporter": "python",
   "pygments_lexer": "ipython3",
   "version": "3.10.14"
  }
 },
 "nbformat": 4,
 "nbformat_minor": 4
}
