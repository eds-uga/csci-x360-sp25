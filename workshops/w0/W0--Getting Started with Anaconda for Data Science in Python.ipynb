{
 "cells": [
  {
   "cell_type": "markdown",
   "metadata": {},
   "source": [
    "# Preliminaries"
   ]
  },
  {
   "cell_type": "markdown",
   "metadata": {},
   "source": [
    "Assuming either\n",
    "\n",
    " - Linux (Ubuntu)\n",
    " - macOS\n",
    " \n",
    "though Windows is still doable; the parts about the `PATH` variables may or may not be relevant."
   ]
  },
  {
   "cell_type": "markdown",
   "metadata": {},
   "source": [
    "### If you are using Windows\n",
    "\n",
    "You have two options:\n",
    " 1. Windows Subsystem for Linux (WSL) https://learn.microsoft.com/en-us/windows/wsl/install\n",
    " 2. Graphical Anaconda install (outside the scope of this workshop)"
   ]
  },
  {
   "cell_type": "markdown",
   "metadata": {},
   "source": [
    "# Part 1: Installing Anaconda"
   ]
  },
  {
   "cell_type": "markdown",
   "metadata": {},
   "source": [
    "Anaconda is an incredibly popular Python distribution platform. It's the product of (aptly-named) [Anaconda](https://www.anaconda.com/), and is effectively the *de facto* way to interact with the Python ecosystem at this point."
   ]
  },
  {
   "cell_type": "markdown",
   "metadata": {},
   "source": [
    "(*Translation: Use Anaconda for installing Python. **DO NOT USE** [python.org](http://python.org) unless you are super comfortable with micromanaging your Python install and the packages you download*)"
   ]
  },
  {
   "cell_type": "markdown",
   "metadata": {},
   "source": [
    "Installing Anaconda is easy enough: navigate to this link https://www.anaconda.com/download/success#miniconda"
   ]
  },
  {
   "cell_type": "markdown",
   "metadata": {},
   "source": [
    "The website will auto-detect your operating system and present you with the relevant downloads (but of course you can pick another if you want).\n",
    "\n",
    "Since I do pretty much everything by command line these days (and Jupyter notebooks provide a direct interface to the command line!), I'll go with the Linux version of the installer (but again, the Windows `exe` and macOS `pkg` will provide a GUI installer if you really want it)."
   ]
  },
  {
   "cell_type": "markdown",
   "metadata": {},
   "source": [
    "![installer_download](images/installer_download2.png)"
   ]
  },
  {
   "cell_type": "code",
   "execution_count": null,
   "metadata": {},
   "outputs": [],
   "source": [
    "# Step 1: right-click the \"download\" link on the left\n",
    "\n",
    "# Step 2: select \"copy link address\"\n",
    "\n",
    "# Step 3: paste the link into the following bash command, after \"wget\"\n",
    "\n",
    "!wget https://repo.anaconda.com/archive/Anaconda3-2024.10-1-MacOSX-x86_64.sh"
   ]
  },
  {
   "cell_type": "markdown",
   "metadata": {},
   "source": [
    "The download takes awhile; it's a big distribution!"
   ]
  },
  {
   "cell_type": "markdown",
   "metadata": {},
   "source": [
    "Once it's downloaded, all you have to provide is an install prefix, i.e. where you want this Python install to live on your computer.\n",
    "\n",
    " - I like to install mine at `/opt/conda`, but that's a global configuration.\n",
    " - You can just as easily do a local one at `/home/<your_username>/conda` or `/home/<your_username>/python` or whatever you'd like!"
   ]
  },
  {
   "cell_type": "code",
   "execution_count": null,
   "metadata": {},
   "outputs": [],
   "source": [
    "!ls # This will show us the files in our current directory"
   ]
  },
  {
   "cell_type": "code",
   "execution_count": null,
   "metadata": {},
   "outputs": [],
   "source": [
    "# This is an easy one-liner, but it's absolutely necessary: it makes the file *executable*\n",
    "\n",
    "!chmod +x Anaconda3-2024.10-1-MacOSX-x86_64.sh"
   ]
  },
  {
   "cell_type": "code",
   "execution_count": null,
   "metadata": {},
   "outputs": [],
   "source": [
    "# The \"-b\" flag means \"batch\", which means the install won't stop to ask us pesky questions\n",
    "# The \"-p\" flag expects a path where Python will be installed. I've provided a local one\n",
    "\n",
    "!bash Anaconda3-2024.10-1-MacOSX-x86_64.sh -b -p ./conda-install"
   ]
  },
  {
   "cell_type": "markdown",
   "metadata": {},
   "source": [
    "This part will take awhile, depending largely on your internet connection. Go grab some coffee!"
   ]
  },
  {
   "cell_type": "markdown",
   "metadata": {},
   "source": [
    "![coffee](images/coffee.gif)"
   ]
  },
  {
   "cell_type": "markdown",
   "metadata": {},
   "source": [
    "There's one more small step to be done, and here's where things might get confusing if you've little or no experience installing things by command line."
   ]
  },
  {
   "cell_type": "markdown",
   "metadata": {},
   "source": [
    "You've installed Python locally, and that's super-cool--uninstall is quite literally as easy as trashing the directory you put after the `-p` flag--but the problem is, *your computer doesn't know where it is.*"
   ]
  },
  {
   "cell_type": "code",
   "execution_count": null,
   "metadata": {},
   "outputs": [],
   "source": [
    "!which python"
   ]
  },
  {
   "cell_type": "markdown",
   "metadata": {},
   "source": [
    "This is a great command to test exactly what version of `python` is being executed. In this case, it's a version I'd installed previous, at `/opt/python`. That is definitely *not* the version I just installed. How do I alert my operating system that, when I type a command starting with `python`, I want it to refer to the local one I just installed?"
   ]
  },
  {
   "cell_type": "markdown",
   "metadata": {},
   "source": [
    "You have two options: both involve editing the `PATH` environment variable that is more or less singularly responsible for telling your computer where everything is (if you've ever accidentally nuked this variable, you know how important it is). **The difference is how your edits persist.**"
   ]
  },
  {
   "cell_type": "markdown",
   "metadata": {},
   "source": [
    "### Alternative to Conda\n",
    "\n",
    "![](images/mamba.png)"
   ]
  },
  {
   "cell_type": "markdown",
   "metadata": {},
   "source": [
    "It's a drop-in replacement for conda, but lightning fast (and drops to conda when a command hasn't been implemented).\n",
    "\n",
    "This is what I use. I love it.\n",
    "\n",
    "https://mamba.readthedocs.io/en/latest/"
   ]
  },
  {
   "cell_type": "markdown",
   "metadata": {},
   "source": [
    "### Option 1: Edit your `.bashrc` (\\*nix) or `.profile` (macOS)"
   ]
  },
  {
   "cell_type": "markdown",
   "metadata": {},
   "source": [
    "This makes the changes *stick*, even after you close down your command prompt. Even after you reboot!"
   ]
  },
  {
   "cell_type": "markdown",
   "metadata": {},
   "source": [
    " 1. Open up the correct file (they're both found in your home directory).\n",
    " 2. At the end of the file, put the following line:"
   ]
  },
  {
   "cell_type": "markdown",
   "metadata": {},
   "source": [
    "```\n",
    "export PATH=/home/<your_username>/conda-install/bin:$PATH\n",
    "```"
   ]
  },
  {
   "cell_type": "markdown",
   "metadata": {},
   "source": [
    "Basically, the FULL path of whatever directory you provided to the Anaconda installer, with `/bin` tacked on the end."
   ]
  },
  {
   "cell_type": "markdown",
   "metadata": {},
   "source": [
    "Also, don't forget the colon and the `$PATH` suffix! Doing so will achieve said nuking of the variable!"
   ]
  },
  {
   "cell_type": "markdown",
   "metadata": {},
   "source": [
    "### Option 2: DO IT LIVE"
   ]
  },
  {
   "cell_type": "markdown",
   "metadata": {},
   "source": [
    "This is essentially: changing the variable for the duration of time you have your command prompt window open. Once you close it down, your computer reverts to whatever configuration it was before. That can be achieved simply by running the above command right in your command prompt window:"
   ]
  },
  {
   "cell_type": "markdown",
   "metadata": {},
   "source": [
    "```\n",
    "export PATH=/home/<your_username>/conda-install/bin:$PATH\n",
    "```"
   ]
  },
  {
   "cell_type": "markdown",
   "metadata": {},
   "source": [
    "I'll do that one here, using the Terminal interface provided by Jupyter notebooks:"
   ]
  },
  {
   "cell_type": "markdown",
   "metadata": {},
   "source": [
    "![exportpath](images/exportpath.png)"
   ]
  },
  {
   "cell_type": "markdown",
   "metadata": {},
   "source": [
    "Once you type `exit` on that command prompt, those changes will go away and the `PATH` variable will revert to whatever it was before, obviously devoid of the changes you made with respect to the local Python install. So if you want the changes to stick, go with Option 1."
   ]
  },
  {
   "cell_type": "markdown",
   "metadata": {},
   "source": [
    "### Option 3: It's done for you"
   ]
  },
  {
   "cell_type": "markdown",
   "metadata": {},
   "source": [
    "If you use the `exe` or `pkg` installers provided by the Windows or macOS versions respectively, they do this exact thing under the hood!"
   ]
  },
  {
   "cell_type": "markdown",
   "metadata": {},
   "source": [
    "# Part 2: Conda Environments"
   ]
  },
  {
   "cell_type": "markdown",
   "metadata": {},
   "source": [
    "One of the most powerful aspects of Anaconda is the concept of the *environment*."
   ]
  },
  {
   "cell_type": "markdown",
   "metadata": {},
   "source": [
    "Have you heard of `virtualenv`? It's a Python package that allows to create \"virtual environments\" that are completely disconnected from each other. Reasons you might want to have parallel Python environments existing completely separately from one another:"
   ]
  },
  {
   "cell_type": "markdown",
   "metadata": {},
   "source": [
    " - Testing version compatibility of a software package you're developing\n",
    " - Using a third-party package that is only compatible with certain versions of other packages\n",
    " - Slowly upgrading aspects of an environment while wanting to maintain a working, original \"production\" environment\n",
    " - ... etc"
   ]
  },
  {
   "cell_type": "markdown",
   "metadata": {},
   "source": [
    "The `conda` tool, first and foremost, is an environment manager. In fact, when you installed Anaconda, it created an initial \"default\" environment: using this blueprint as a jumping-off point, you could construct lots of parallel environments using different versions of Python, or the packages, or just different package combinations."
   ]
  },
  {
   "cell_type": "markdown",
   "metadata": {},
   "source": [
    "Biggest example: **Python 2 versus Python 3.**"
   ]
  },
  {
   "cell_type": "code",
   "execution_count": null,
   "metadata": {},
   "outputs": [],
   "source": [
    "!conda env list"
   ]
  },
  {
   "cell_type": "markdown",
   "metadata": {},
   "source": [
    "As you can see, I already have four Python environments up and running for several different versions of Python."
   ]
  },
  {
   "cell_type": "markdown",
   "metadata": {},
   "source": [
    "### Creating a new \"ad-hoc\" environment"
   ]
  },
  {
   "cell_type": "markdown",
   "metadata": {},
   "source": [
    "This is certainly the easiest way of creating a new environment: just give conda a name and a list of core packages, and you're good to go!"
   ]
  },
  {
   "cell_type": "code",
   "execution_count": null,
   "metadata": {},
   "outputs": [],
   "source": [
    "!conda create -n myenv -y python=2.7 scikit-learn numpy scipy matplotlib"
   ]
  },
  {
   "cell_type": "markdown",
   "metadata": {},
   "source": [
    "Ta-daa!\n",
    "\n",
    "Let's break it down:"
   ]
  },
  {
   "cell_type": "markdown",
   "metadata": {},
   "source": [
    "```\n",
    "conda create\n",
    "```"
   ]
  },
  {
   "cell_type": "markdown",
   "metadata": {},
   "source": [
    "This is the part of the command that specifies that we want a new environment, separate from the default (or \"root\")."
   ]
  },
  {
   "cell_type": "markdown",
   "metadata": {},
   "source": [
    "```\n",
    "-n myenv\n",
    "```"
   ]
  },
  {
   "cell_type": "markdown",
   "metadata": {},
   "source": [
    "This part provides the name of the environment. It can be pretty much anything other than \"root\", aside from any other environments you've named. Try to make the name descriptive of its purpose! (*HINT*: perhaps name your environments by the project you're working on?...)"
   ]
  },
  {
   "cell_type": "markdown",
   "metadata": {},
   "source": [
    "```\n",
    "python=2.7 scikit-learn numpy scipy matplotlib\n",
    "```"
   ]
  },
  {
   "cell_type": "markdown",
   "metadata": {},
   "source": [
    "This is the list of packages I want my new environment to come with by default: Python (version 2.7), scikit-learn, NumPy, SciPy, and Matplotlib."
   ]
  },
  {
   "cell_type": "markdown",
   "metadata": {},
   "source": [
    "After that, conda goes to work! It even provides the instructions at the end for switching into and out of the environment:"
   ]
  },
  {
   "cell_type": "markdown",
   "metadata": {},
   "source": [
    "```\n",
    "conda activate myenv\n",
    "```"
   ]
  },
  {
   "cell_type": "markdown",
   "metadata": {},
   "source": [
    "drops you into the environment, and once inside it,"
   ]
  },
  {
   "cell_type": "markdown",
   "metadata": {},
   "source": [
    "```\n",
    "conda deactivate\n",
    "```"
   ]
  },
  {
   "cell_type": "markdown",
   "metadata": {},
   "source": [
    "drops you out and back into the default, or root, environment."
   ]
  },
  {
   "cell_type": "code",
   "execution_count": null,
   "metadata": {},
   "outputs": [],
   "source": [
    "!conda env list"
   ]
  },
  {
   "cell_type": "markdown",
   "metadata": {},
   "source": [
    "### Addendum: Cloning an existing environment"
   ]
  },
  {
   "cell_type": "markdown",
   "metadata": {},
   "source": [
    "If you love an environment and have it set up *perfectly* and want to introduce an unstable element, you can also *clone* that environment into a new one."
   ]
  },
  {
   "cell_type": "markdown",
   "metadata": {},
   "source": [
    "It works the same as before, but in lieu of a package list (which you can still provide!), the main argument is the `--clone` option:"
   ]
  },
  {
   "cell_type": "code",
   "execution_count": null,
   "metadata": {},
   "outputs": [],
   "source": [
    "!conda create -n myenv2 --clone myenv"
   ]
  },
  {
   "cell_type": "code",
   "execution_count": null,
   "metadata": {},
   "outputs": [],
   "source": [
    "!conda env list"
   ]
  },
  {
   "cell_type": "markdown",
   "metadata": {},
   "source": [
    "There you go! Two identical but completely distinct environments."
   ]
  },
  {
   "cell_type": "markdown",
   "metadata": {},
   "source": [
    "### Exporting environments\n",
    "\n",
    "You've gone through all this trouble to set up and configure your environment. Over the days/weeks/months, you've installed and removed certain packages. You have the *perfect* environment.\n",
    "\n",
    "Now, your friend wants the same environment. We've seen how easy it is to clone existing environments on the same machine, but what about sending the environment schematics elsewhere?\n",
    "\n",
    "As an example, I maintain a list of Python packages that I use to rebuild my default environment from scratch in the case of catastrophic failure.\n",
    "\n",
    "In this case, you can *export* your environments into the super-friendly YAML format:"
   ]
  },
  {
   "cell_type": "code",
   "execution_count": null,
   "metadata": {},
   "outputs": [],
   "source": [
    "!conda env export -n myenv2 -f myenv2.yaml"
   ]
  },
  {
   "cell_type": "markdown",
   "metadata": {},
   "source": [
    "This creates a file `myenv2.yaml` (which you can name whatever you want) from the \"myenv2\" environment. Here are the contents of the file:"
   ]
  },
  {
   "cell_type": "code",
   "execution_count": null,
   "metadata": {},
   "outputs": [],
   "source": [
    "# %load myenv2.yaml\n",
    "name: myenv2\n",
    "channels:\n",
    "- menpo\n",
    "- conda-forge\n",
    "- defaults\n",
    "dependencies:\n",
    "- backports_abc=0.5=py27_0\n",
    "- blas=1.1=openblas\n",
    "- ca-certificates=2017.7.27.1=0\n",
    "- certifi=2017.7.27.1=py27_0\n",
    "- cycler=0.10.0=py27_0\n",
    "- dbus=1.10.10=3\n",
    "- expat=2.2.1=0\n",
    "- fontconfig=2.12.1=4\n",
    "- freetype=2.7=1\n",
    "- functools32=3.2.3.2=py27_1\n",
    "- gettext=0.19.7=1\n",
    "- glib=2.51.4=0\n",
    "- gst-plugins-base=1.8.0=0\n",
    "- gstreamer=1.8.0=2\n",
    "- icu=58.1=1\n",
    "- jpeg=9b=0\n",
    "- libffi=3.2.1=3\n",
    "- libiconv=1.14=4\n",
    "- libpng=1.6.28=0\n",
    "- libxcb=1.12=1\n",
    "- libxml2=2.9.4=4\n",
    "- matplotlib=2.0.2=py27_2\n",
    "- ncurses=5.9=10\n",
    "- numpy=1.13.1=py27_blas_openblas_200\n",
    "- openblas=0.2.19=2\n",
    "- openssl=1.0.2l=0\n",
    "- pcre=8.39=0\n",
    "- pip=9.0.1=py27_0\n",
    "- pyparsing=2.2.0=py27_0\n",
    "- pyqt=5.6.0=py27_4\n",
    "- python=2.7.13=1\n",
    "- python-dateutil=2.6.1=py27_0\n",
    "- pytz=2017.2=py27_0\n",
    "- qt=5.6.2=3\n",
    "- readline=6.2=0\n",
    "- scikit-learn=0.19.0=py27_blas_openblas_201\n",
    "- scipy=0.19.1=py27_blas_openblas_202\n",
    "- setuptools=36.2.2=py27_0\n",
    "- singledispatch=3.4.0.3=py27_0\n",
    "- sip=4.18=py27_1\n",
    "- six=1.10.0=py27_1\n",
    "- sqlite=3.13.0=1\n",
    "- ssl_match_hostname=3.5.0.1=py27_1\n",
    "- subprocess32=3.2.7=py27_0\n",
    "- tk=8.5.19=2\n",
    "- tornado=4.5.1=py27_0\n",
    "- wheel=0.29.0=py27_0\n",
    "- xorg-libxau=1.0.8=3\n",
    "- xorg-libxdmcp=1.1.2=3\n",
    "- xz=5.2.2=0\n",
    "- zlib=1.2.11=0\n",
    "- libgfortran=3.0.0=1\n",
    "- pip:\n",
    "  - backports-abc==0.5\n",
    "  - backports.ssl-match-hostname==3.5.0.1\n",
    "prefix: /opt/python/envs/myenv2\n"
   ]
  },
  {
   "cell_type": "markdown",
   "metadata": {},
   "source": [
    "It's incredibly detailed, down to the exact versions of each package used in the environment. Short of the operating system itself, you can use this to duplicate environments *exactly* on different computers."
   ]
  },
  {
   "cell_type": "markdown",
   "metadata": {},
   "source": [
    "### Creating manually-built environments"
   ]
  },
  {
   "cell_type": "markdown",
   "metadata": {},
   "source": [
    "Then, of course, there's the opposite operation: creating an environment from a YAML file."
   ]
  },
  {
   "cell_type": "markdown",
   "metadata": {},
   "source": [
    "NOTE: You'll notice there's a `name` field in the YAML file. Since we're performing both the export and import on the same machine, there could be a conflict in the name of the environment. Normally, this wouldn't be the case, but here we'll have to fix that one of two ways.\n",
    "\n",
    "1: Just change the name of the environment in the YAML file to something else.\n",
    "2: Use the `-n` flag to specify a name when you create the environment from the file."
   ]
  },
  {
   "cell_type": "code",
   "execution_count": null,
   "metadata": {},
   "outputs": [],
   "source": [
    "!conda env create -n myenv3 -f myenv2.yaml"
   ]
  },
  {
   "cell_type": "code",
   "execution_count": null,
   "metadata": {},
   "outputs": [],
   "source": [
    "!conda env list"
   ]
  },
  {
   "cell_type": "markdown",
   "metadata": {},
   "source": [
    "Just look at how they multiply!"
   ]
  },
  {
   "cell_type": "markdown",
   "metadata": {},
   "source": [
    "# Part 3: The package manager"
   ]
  },
  {
   "cell_type": "markdown",
   "metadata": {},
   "source": [
    "Ok, you've got Anaconda installed! You either cloned an existing environment, ripped an environment configuration off someone else, or built a new environment from scratch.\n",
    "\n",
    "Let's customize it!\n",
    "\n",
    "### `conda install`\n",
    "\n",
    "This is the workhorse: you run this command to install a package."
   ]
  },
  {
   "cell_type": "markdown",
   "metadata": {},
   "source": [
    "![install_sympy](images/install_sympy.png)"
   ]
  },
  {
   "cell_type": "markdown",
   "metadata": {},
   "source": [
    "Note that conda will also determine if any other packages (dependencies) need to be installed in order to install the package you requested. Once you've agreed, just hit \"y\" and the install will proceed.\n",
    "\n",
    "### `conda remove`\n",
    "\n",
    "The opposite of the previous command, this will remove the specified packages from your system (note: it won't outright delete them).\n",
    "\n",
    "Also note: it will, in fact, delete any prerequisites it had to install."
   ]
  },
  {
   "cell_type": "markdown",
   "metadata": {},
   "source": [
    "![remove_sympy](images/remove_sympy.png)"
   ]
  },
  {
   "cell_type": "markdown",
   "metadata": {},
   "source": [
    "### Channels\n",
    "\n",
    "Ok, the last real wrinkle in a conda environment, and where (in my view) conda really gets it power: channels.\n",
    "\n",
    "The philosophy behind conda--an open source package manager not just for Python, but a language-agnostic package manager that worked irrespective of platform, providing fully-built packages for any operating system--was a good one.\n",
    "\n",
    "Problem is, there are *too many platforms* out there to fully satisfy them all. Furthermore, with Anaconda being the ones to have to rebuild the packages and dependency lists any time an updated package under the Anaconda purview was released, it got to be too much work.\n",
    "\n",
    "So they developed the idea of channels: distinct build avenues that even the common user can hook into. You can build a package from scratch with highly customized build options, then put that package into a custom channel.\n",
    "\n",
    "This strategy has reached fever pitch with the [conda-forge project](https://conda-forge.org/)."
   ]
  },
  {
   "cell_type": "markdown",
   "metadata": {},
   "source": [
    "![conda_forge](images/conda_forge.png)"
   ]
  },
  {
   "cell_type": "markdown",
   "metadata": {},
   "source": [
    "The goal of this project is to essentially outsource the building of *all* Python packages to the community, and make them available through the \"conda-forge\" channel.\n",
    "\n",
    "You may have noticed several instances throughout this workshop where the output of certain conda commands contained \"conda-forge\". I am indeed subscribed to this channel, and I highly recommend you do as well. This will give you access to the most recent build recipes, which are often out very shortly after the new version of any given Python package is released; much quicker turnaround than Anaconda's official default channel."
   ]
  },
  {
   "cell_type": "markdown",
   "metadata": {},
   "source": [
    "To subscribe to a channel, you can use the \"conda config\" command:"
   ]
  },
  {
   "cell_type": "markdown",
   "metadata": {},
   "source": [
    "![conda_config](images/conda_config.png)"
   ]
  },
  {
   "cell_type": "markdown",
   "metadata": {},
   "source": [
    "Or, in this case:\n",
    "\n",
    "```\n",
    "conda config --add channels conda-forge\n",
    "```\n",
    "\n",
    "Alternatively, you can install packages directly from channels without needing to be subscribed. You can do this through the \"-c\" flag in the \"conda install\" command:\n",
    "\n",
    "```\n",
    "conda install -c conda-forge scipy\n",
    "```\n",
    "\n",
    "This command will install the latest version of SciPy, but specifically from the conda-forge channel.\n",
    "\n",
    "If you don't specify a channel, conda will automatically select the best matching package from a channel you're subscribed to. **This is not necessarily the default Anaconda channel!** You can actually specify a hierarchy in the channels you're subscribed to--for instance, conda-forge is my highest-level channel, so whenever I do not specify a channel during install, it defaults to conda-forge first before any others.\n",
    "\n",
    "You can find out this hierarchy from the command:\n",
    "\n",
    "```\n",
    "conda config --show-sources\n",
    "```"
   ]
  },
  {
   "cell_type": "markdown",
   "metadata": {},
   "source": [
    "### Keeping your environment up to date\n",
    "\n",
    "The last command to know--and to use frequently--is `conda update`. This will update the specified packages to their latest versions available through the corresponding channel.\n",
    "\n",
    "You can specify a package, e.g.\n",
    "\n",
    "```\n",
    "conda update scikit-learn\n",
    "```\n",
    "\n",
    "Or, you can do the \"catch-all\" to update absolutely everything:\n",
    "\n",
    "```\n",
    "conda update --all\n",
    "```\n",
    "\n",
    "Just be careful with that last one--I've had strange things happen on occasion..."
   ]
  },
  {
   "cell_type": "markdown",
   "metadata": {},
   "source": [
    "# Part zomg: Skip the install entirely, use GitHub+Binder"
   ]
  },
  {
   "cell_type": "markdown",
   "metadata": {},
   "source": [
    "Advantages:\n",
    " - No need to install Python on your computer, at all\n",
    " - All you need is a (modern) web browser and an internet connection\n",
    " - Environments are ephemeral; no need to worry about cleaning up or saving anything"
   ]
  },
  {
   "cell_type": "markdown",
   "metadata": {},
   "source": [
    "Disadvantages:\n",
    " - Need to explicitly state an environment (i.e., specific packages) ahead of time\n",
    " - Build times can be slow (from Lecture 1)\n",
    "   - Any change in the environment will require a re-build from scratch!\n",
    " - Environments are ephemeral; anything you want to keep you'll have to manually save"
   ]
  },
  {
   "cell_type": "markdown",
   "metadata": {},
   "source": [
    "### Create a repository on GitHub"
   ]
  },
  {
   "cell_type": "markdown",
   "metadata": {},
   "source": [
    "Needs three things:\n",
    "\n",
    "1. Repo must be PUBLIC\n",
    "2. Put in any existing code or notebooks you want to run or modify\n",
    "3. Create a configuration / environment file"
   ]
  },
  {
   "cell_type": "markdown",
   "metadata": {},
   "source": [
    "All the configuration files supported by Binder can be found here: https://mybinder.readthedocs.io/en/latest/using/config_files.html#config-files (you can basically have it run any language you want, but it's particularly geared toward Python and R"
   ]
  },
  {
   "cell_type": "markdown",
   "metadata": {},
   "source": [
    "Example repo of mine from Lecture 1, a talk I gave back in 2018: https://github.com/quinngroup/JupyterDay2018-Cilia-Segmentation/\n",
    " - Note the presence of the `environment.yml`; that's the key\n"
   ]
  },
  {
   "cell_type": "markdown",
   "metadata": {},
   "source": [
    "### Where to learn more about `environment.yml`\n",
    "\n",
    "It's the output to `conda env export`!\n",
    "\n",
    "Check out the conda docs on the topic:\n",
    "https://conda.io/projects/conda/en/latest/user-guide/tasks/manage-environments.html#creating-an-environment-file-manually"
   ]
  },
  {
   "cell_type": "markdown",
   "metadata": {},
   "source": [
    "### Load the repo in Binder"
   ]
  },
  {
   "cell_type": "markdown",
   "metadata": {},
   "source": [
    "Once you have everything in the repo (code, configuration/environment, any data you want to play with), navigate to a Binder instance and copy/paste the URL to the repo."
   ]
  },
  {
   "cell_type": "markdown",
   "metadata": {},
   "source": [
    " - 🌎 [MyBinder](https://mybinder.org/)\n"
   ]
  },
  {
   "cell_type": "markdown",
   "metadata": {},
   "source": [
    "(both are powered by identical software and should function identically)"
   ]
  },
  {
   "cell_type": "markdown",
   "metadata": {},
   "source": [
    "# Part 4: Where to learn more\n",
    "\n",
    "There are lots of online resources to learn about the ins and outs of conda. I would specifically point you to the following:\n",
    "\n",
    " - Miniconda downloads: https://www.anaconda.com/download/success#miniconda\n",
    " - Mini_forge_ downloads: https://github.com/conda-forge/miniforge (if you want Mamba instead of Conda)\n",
    " - Conda documentation https://conda.io/docs/\n",
    " - Mamba documentation https://mamba.readthedocs.io/en/latest/\n",
    " - The philosophy of conda as a package manager https://jakevdp.github.io/blog/2016/08/25/conda-myths-and-misconceptions/"
   ]
  },
  {
   "cell_type": "markdown",
   "metadata": {},
   "source": [
    "Happy coding!"
   ]
  }
 ],
 "metadata": {
  "kernelspec": {
   "display_name": "Python [conda env:base] *",
   "language": "python",
   "name": "conda-base-py"
  },
  "language_info": {
   "codemirror_mode": {
    "name": "ipython",
    "version": 3
   },
   "file_extension": ".py",
   "mimetype": "text/x-python",
   "name": "python",
   "nbconvert_exporter": "python",
   "pygments_lexer": "ipython3",
   "version": "3.10.14"
  },
  "widgets": {
   "state": {},
   "version": "1.1.2"
  }
 },
 "nbformat": 4,
 "nbformat_minor": 4
}
